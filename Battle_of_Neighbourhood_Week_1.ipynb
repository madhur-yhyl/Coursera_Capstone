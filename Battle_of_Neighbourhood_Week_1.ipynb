{
 "cells": [
  {
   "cell_type": "markdown",
   "metadata": {},
   "source": [
    "# Battle of Neighbourhoods - Sydney Water Bubblers "
   ]
  },
  {
   "cell_type": "markdown",
   "metadata": {},
   "source": [
    "### 1. Introduction"
   ]
  },
  {
   "cell_type": "markdown",
   "metadata": {},
   "source": [
    "It is only when something is taken away that we realise just how importance it was to our lives, and it is safe to say that the loss of outdoor drinking fountains and indoor water dispensers would have a significant impact on our lives. We expect to see them in schools, offices and even hotel lobbies and luckily, nowadays we are rarely disappointed."
   ]
  },
  {
   "cell_type": "markdown",
   "metadata": {},
   "source": [
    "Different locations will prefer different taps because of the type of customer they have. School drinking fountains and gym fountains will have a constant need for small quick bursts of water and this is exactly what the bubbler tap is designed for.  While offices and professional areas are unlikely to want their staff to be dipping down to catch a quick mouthful of water. It hardly gives off the best professional image. The bubbler tap allows the user to quickly dip down, filling their mouth with refreshment and then get on with their day. Even those who are not being active might be in need of a quick drink, such as in between classes or after lunch."
   ]
  },
  {
   "cell_type": "markdown",
   "metadata": {},
   "source": [
    "There is a large network of drinking fountains (water bubblers) dotted around the city of Sydney where one can get fresh water while they are walking or cycling. Most are in parks and playgrounds while some can also be found along main roads or near tourist attractions. Sydney water fountains are not only useful, they are something of a tourist attraction in themselves - with some more than 100 years old.\n"
   ]
  },
  {
   "cell_type": "markdown",
   "metadata": {},
   "source": [
    "### 2. Business Problem"
   ]
  },
  {
   "cell_type": "markdown",
   "metadata": {},
   "source": [
    "A research to evaluate the access to and supply of water in a variety of settings, such as open spaces and sports and recreation centres could be carried out so that places with higher demand have adequate and continuous supply of water. This guide is based on the research findings and a review of drinking water fountains."
   ]
  },
  {
   "cell_type": "markdown",
   "metadata": {},
   "source": [
    "##### Consider location:\n",
    "* Map out locations of existing water fountains and identify opportunities for installation  of new water fountains/refill stations\n",
    "* Research indicates that if drinking water sources are not in prominent areas and blend in with surroundings, they are less likely to be used\n",
    "* Units in poor locations or not installed on appropriate (flat) surfaces can make it difficult to access the water source\n",
    "\n",
    "##### For new installation sites:\n",
    "* identify high pedestrian traffic areas, such as next to a playground\n",
    "* open spaces where there are opportunities to do physical activity\n",
    "* open spaces where there are planned picnic tables/BBQ facilities.\n",
    "* Presence of a water bottle refill station"
   ]
  },
  {
   "cell_type": "markdown",
   "metadata": {},
   "source": [
    "### 3. Data"
   ]
  },
  {
   "cell_type": "markdown",
   "metadata": {},
   "source": [
    "The data for this project has been retrieved and processed through multiple sources, giving careful considerations to the accuracy of the methods used.\n"
   ]
  },
  {
   "cell_type": "markdown",
   "metadata": {},
   "source": [
    "#### 3.1 Neighbourhoods Sydney Water Bubbler Data"
   ]
  },
  {
   "cell_type": "markdown",
   "metadata": {},
   "source": [
    "The data of the neighbourhoods in Kolkata can be extracted out by downloading from [City of Sydney](https://data.cityofsydney.nsw.gov.au/datasets/166d56fa6d644397add849d6190fc388_0/data) site. This downloaded data is then read through panda dataframe."
   ]
  },
  {
   "cell_type": "markdown",
   "metadata": {},
   "source": [
    "#### 3.2 Geocoding\n",
    "\n",
    "The latitude and longitude of Sydney are retrieved using Google Maps Geocoding API. The geometric location values are then stored into the intial dataframe."
   ]
  },
  {
   "cell_type": "markdown",
   "metadata": {},
   "source": [
    "#### 3.3 Venue Data\n",
    "\n",
    "From the location data obtained after Web Scraping and Geocoding, the venue data is found out by passing in the required parameters to the FourSquare API, and creating another DataFrame to contain all the venue details along with the respective neighbourhoods."
   ]
  },
  {
   "cell_type": "code",
   "execution_count": null,
   "metadata": {},
   "outputs": [],
   "source": []
  }
 ],
 "metadata": {
  "kernelspec": {
   "display_name": "Python 3",
   "language": "python",
   "name": "python3"
  },
  "language_info": {
   "codemirror_mode": {
    "name": "ipython",
    "version": 3
   },
   "file_extension": ".py",
   "mimetype": "text/x-python",
   "name": "python",
   "nbconvert_exporter": "python",
   "pygments_lexer": "ipython3",
   "version": "3.7.6"
  }
 },
 "nbformat": 4,
 "nbformat_minor": 4
}
